{
 "cells": [
  {
   "cell_type": "markdown",
   "id": "cd490fc2-7039-487e-99f3-61799c6eb906",
   "metadata": {},
   "source": [
    "# GNNs"
   ]
  },
  {
   "cell_type": "markdown",
   "id": "9dbab95f-50b1-47ac-9b6c-9b3374809944",
   "metadata": {},
   "source": [
    "## Introdução"
   ]
  }
 ],
 "metadata": {
  "kernelspec": {
   "display_name": "Python 3 (ipykernel)",
   "language": "python",
   "name": "python3"
  },
  "language_info": {
   "codemirror_mode": {
    "name": "ipython",
    "version": 3
   },
   "file_extension": ".py",
   "mimetype": "text/x-python",
   "name": "python",
   "nbconvert_exporter": "python",
   "pygments_lexer": "ipython3",
   "version": "3.10.12"
  }
 },
 "nbformat": 4,
 "nbformat_minor": 5
}

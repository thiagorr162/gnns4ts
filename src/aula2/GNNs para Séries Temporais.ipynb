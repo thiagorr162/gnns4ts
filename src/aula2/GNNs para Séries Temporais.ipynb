{
 "cells": [
  {
   "cell_type": "markdown",
   "id": "63145bd4-a4ef-4fd2-842e-7eaf0c14ed07",
   "metadata": {},
   "source": [
    "# Introdução às Redes Neurais Convolucionais em Grafos para Séries Temporais\n",
    "\n",
    "As **Redes Neurais Convolucionais em Grafos** (Graph Convolutional Networks, ou GCNs) têm se mostrado uma ferramenta poderosa para capturar padrões complexos em dados estruturados em forma de grafos, como redes de transporte, redes sociais e interações moleculares. No entanto, muitos problemas no mundo real também envolvem uma dimensão temporal, onde as relações entre as entidades mudam com o tempo. Isso exige a criação de modelos capazes de capturar **dependências espaciais** e **temporais** simultaneamente.\n",
    "\n",
    "A combinação dessas duas dimensões resulta em uma nova classe de problemas conhecidos como **Redes Neurais Espaciais-Temporais em Grafos** (Spatio-Temporal Graph Neural Networks, ou ST-GNNs). Esses modelos são aplicados em uma variedade de tarefas, como previsão de tráfego, análise de redes de sensores e modelagem de interações dinâmicas em redes sociais.\n",
    "\n",
    "Nesta apresentação, exploraremos como a GCN pode ser expandida para lidar com séries temporais, capturando tanto a estrutura do grafo quanto as mudanças ao longo do tempo. Vamos focar em exemplos práticos, como a **previsão de tráfego**, onde o tráfego entre diferentes segmentos de estrada é modelado como um grafo cujas características variam ao longo do tempo."
   ]
  },
  {
   "cell_type": "markdown",
   "id": "8b4ffddd-07f4-46b7-bd86-7b2f2103b663",
   "metadata": {},
   "source": [
    "## Definição\n",
    "\n",
    "Dado um grafo dinâmico $G(t) = (V, E, X_V(t), X_E(t))$, onde:\n",
    "\n",
    "- $V$ é o conjunto de nós (vértices),\n",
    "- $E$ é o conjunto de arestas (conexões entre os nós),\n",
    "- $X_V(t) \\in \\mathbb{R}^{|V| \\times d_V}$ representa as características dos nós (vértices) no tempo $t$, sendo $d_V$ a dimensionalidade das características dos nós,\n",
    "- $X_E(t) \\in \\mathbb{R}^{|E| \\times d_E}$ representa as características das arestas no tempo $t$, sendo $d_E$ a dimensionalidade das características das arestas."
   ]
  },
  {
   "attachments": {},
   "cell_type": "markdown",
   "id": "e32e4f5d-ed27-4479-a15a-f564c1057b5d",
   "metadata": {},
   "source": [
    "![example](st_gnn.png)"
   ]
  },
  {
   "cell_type": "markdown",
   "id": "6f7bd8d1-9395-4c5e-96ae-e8df51d34c00",
   "metadata": {},
   "source": [
    "# Motivação: Previsão de Trafégo\n",
    "\n",
    "Neste exemplo, mostramos como prever as condições de tráfego utilizando redes neurais baseadas em grafos **(GNNs)** combinadas com **LSTM**. O foco é prever os valores futuros da velocidade do tráfego com base em um histórico de dados de uma coleção de segmentos de estrada.\n",
    "\n",
    "Uma solução tradicional para este tipo de problema é tratar a velocidade de tráfego de cada segmento de estrada como uma série temporal individual, prevendo os valores futuros com base nos dados passados do próprio segmento. Entretanto, essa abordagem não considera as influências que os segmentos vizinhos exercem entre si.\n",
    "\n",
    "Para capturar as interações complexas entre os diferentes segmentos de estrada, podemos modelar a rede de tráfego como um grafo, onde a velocidade do tráfego é representada como um sinal associado a esse grafo. Nesta abordagem, implementamos uma arquitetura de rede neural capaz de processar séries temporais sobre um grafo. Primeiramente, mostramos como preparar os dados e criar um `tf.data.Dataset` para previsão com grafos. Em seguida, desenvolvemos um modelo que combina camadas de convolução em grafos com LSTM para realizar a previsão."
   ]
  },
  {
   "cell_type": "code",
   "execution_count": null,
   "id": "2ca2c108-6cfb-4566-b73f-553551616030",
   "metadata": {},
   "outputs": [],
   "source": []
  }
 ],
 "metadata": {
  "kernelspec": {
   "display_name": "Python 3 (ipykernel)",
   "language": "python",
   "name": "python3"
  },
  "language_info": {
   "codemirror_mode": {
    "name": "ipython",
    "version": 3
   },
   "file_extension": ".py",
   "mimetype": "text/x-python",
   "name": "python",
   "nbconvert_exporter": "python",
   "pygments_lexer": "ipython3",
   "version": "3.10.12"
  }
 },
 "nbformat": 4,
 "nbformat_minor": 5
}
